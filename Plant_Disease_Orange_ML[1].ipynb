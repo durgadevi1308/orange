{
 "cells": [
  {
   "cell_type": "code",
   "execution_count": null,
   "id": "2b684c50-45e0-41a0-8d0a-f5c38ce66af6",
   "metadata": {},
   "outputs": [],
   "source": [
    "import pandas as pd\n",
    "import numpy as np\n",
    "import seaborn as sns\n",
    "import matplotlib.pyplot as plt\n",
    "from scipy import stats\n",
    "from sklearn.utils import resample\n",
    "from sklearn.model_selection import train_test_split, GridSearchCV\n",
    "from sklearn.ensemble import RandomForestClassifier\n",
    "from sklearn.linear_model import LogisticRegression\n",
    "from sklearn.metrics import classification_report, accuracy_score, confusion_matrix\n",
    "from sklearn.preprocessing import StandardScaler\n",
    "import joblib"
   ]
  },
  {
   "cell_type": "code",
   "execution_count": null,
   "id": "5b1f5089-3384-47e5-9883-cb1b62b472aa",
   "metadata": {},
   "outputs": [],
   "source": [
    "df = pd.read_csv(r'C:\\Naveen\\PLANT DISEASE (PAVITHRA)\\DATASET\\Disease with Weather.csv')\n",
    "df"
   ]
  },
  {
   "cell_type": "code",
   "execution_count": null,
   "id": "14e2919d-d128-4dbf-b3de-dd484771d6cf",
   "metadata": {},
   "outputs": [],
   "source": [
    "df.drop(columns = ['Disease in number'], inplace = True)"
   ]
  },
  {
   "cell_type": "code",
   "execution_count": null,
   "id": "808b533b-819f-46e3-b46f-497308c9234c",
   "metadata": {},
   "outputs": [],
   "source": [
    "df.info()"
   ]
  },
  {
   "cell_type": "code",
   "execution_count": null,
   "id": "045a7636-b530-4528-b7a3-0cc047f0f464",
   "metadata": {},
   "outputs": [],
   "source": [
    "df.describe().T"
   ]
  },
  {
   "cell_type": "code",
   "execution_count": null,
   "id": "8460359f-e407-45e6-8145-796c98961b59",
   "metadata": {},
   "outputs": [],
   "source": [
    "df.isnull().sum()"
   ]
  },
  {
   "cell_type": "code",
   "execution_count": null,
   "id": "3b13175f-beaa-4103-855d-e70bf045d2d2",
   "metadata": {},
   "outputs": [],
   "source": [
    "# Get min and max for each column\n",
    "min_values = df.min()\n",
    "max_values = df.max()\n",
    "\n",
    "print(\"Minimum values for each column:\")\n",
    "print(min_values)\n",
    "\n",
    "print(\"\\nMaximum values for each column:\")\n",
    "print(max_values)"
   ]
  },
  {
   "cell_type": "code",
   "execution_count": null,
   "id": "d80a21c4-7394-45a5-aa13-dbce97212dea",
   "metadata": {},
   "outputs": [],
   "source": [
    "# Plotting histograms for all numerical columns\n",
    "df.hist(figsize=(10, 8), bins=20)\n",
    "plt.tight_layout()\n",
    "plt.show()"
   ]
  },
  {
   "cell_type": "code",
   "execution_count": null,
   "id": "a0c06581-51e4-48d1-bde1-77490a9faf30",
   "metadata": {},
   "outputs": [],
   "source": [
    "# Boxplot to identify outliers\n",
    "sns.boxplot(data=df[['Humidity', 'Wind Speed', 'Temperature', 'Wind Bearing', 'Visibility', 'Pressure']])\n",
    "plt.show()"
   ]
  },
  {
   "cell_type": "code",
   "execution_count": null,
   "id": "74e5a35b-fb9e-46c7-87e6-7e12f659eec0",
   "metadata": {},
   "outputs": [],
   "source": [
    "a = df.drop(columns = ['Disease'])\n",
    "correlation_matrix = a.corr()\n",
    "sns.heatmap(correlation_matrix, annot=True, cmap='coolwarm')\n",
    "plt.show()"
   ]
  },
  {
   "cell_type": "code",
   "execution_count": null,
   "id": "a84779c1-9805-44a7-8275-436e432a0803",
   "metadata": {},
   "outputs": [],
   "source": [
    "# Count plot for Disease column\n",
    "sns.countplot(x='Disease', data=df)\n",
    "plt.show()"
   ]
  },
  {
   "cell_type": "code",
   "execution_count": null,
   "id": "d6df52a1-1cbc-4de8-b767-547edb86c013",
   "metadata": {},
   "outputs": [],
   "source": [
    "sns.pairplot(df, hue=\"Disease\")\n",
    "plt.show()"
   ]
  },
  {
   "cell_type": "code",
   "execution_count": null,
   "id": "4c7b8595-872d-4d06-aee6-f526e681c4b6",
   "metadata": {},
   "outputs": [],
   "source": [
    "df['Disease'].value_counts()"
   ]
  },
  {
   "cell_type": "code",
   "execution_count": null,
   "id": "9e55d818-25af-4998-af36-68e3bbbb92b0",
   "metadata": {},
   "outputs": [],
   "source": [
    "df_grouped = df.groupby('Disease').sum().reset_index()\n",
    "df_grouped"
   ]
  },
  {
   "cell_type": "code",
   "execution_count": null,
   "id": "c4cd5ebd-79b4-469a-a058-6bbc161dfb4c",
   "metadata": {},
   "outputs": [],
   "source": [
    "df['Disease'] = df['Disease'].str.strip().str.lower()\n",
    "df"
   ]
  },
  {
   "cell_type": "code",
   "execution_count": null,
   "id": "f1153a8e-4d06-49f3-b899-fc9175eedac1",
   "metadata": {},
   "outputs": [],
   "source": [
    "df['Disease'].value_counts()"
   ]
  },
  {
   "cell_type": "code",
   "execution_count": null,
   "id": "020c3132-42e8-4767-84f3-b2e60d902a39",
   "metadata": {},
   "outputs": [],
   "source": [
    "# Calculate z-scores to identify outliers\n",
    "z_scores = stats.zscore(df[['Humidity', 'Wind Speed', 'Temperature', 'Wind Bearing', 'Visibility', 'Pressure']])\n",
    "df_no_outliers = df[(abs(z_scores) < 3).all(axis=1)]  # Removing rows with outliers"
   ]
  },
  {
   "cell_type": "code",
   "execution_count": null,
   "id": "d4c874c3-82be-4d8c-a72d-2f9cbf0ec9d7",
   "metadata": {},
   "outputs": [],
   "source": [
    "df_no_outliers"
   ]
  },
  {
   "cell_type": "code",
   "execution_count": null,
   "id": "9b98586f-e779-42ca-83b2-4f625b7bb0a2",
   "metadata": {},
   "outputs": [],
   "source": [
    "# Separate the classes\n",
    "df_majority = df_no_outliers[df_no_outliers['Disease'] == 'early blight']\n",
    "df_minority = df_no_outliers[df_no_outliers['Disease'] == 'late blight']"
   ]
  },
  {
   "cell_type": "code",
   "execution_count": null,
   "id": "5480b74d-d5db-4cdd-ace2-fb1818bbe4d0",
   "metadata": {},
   "outputs": [],
   "source": [
    "# Random oversampling: upsample the minority class\n",
    "df_minority_upsampled = resample(df_minority,\n",
    "                                 replace=True,  # Sample with replacement to increase samples\n",
    "                                 n_samples=len(df_majority),  # Match majority class size\n",
    "                                 random_state=42)  # For reproducibility"
   ]
  },
  {
   "cell_type": "code",
   "execution_count": null,
   "id": "3442efcb-7d1d-47ac-ad79-2a4d34f7ceaa",
   "metadata": {},
   "outputs": [],
   "source": [
    "# Combine the upsampled minority class with the majority class\n",
    "df_resampled = pd.concat([df_majority, df_minority_upsampled])"
   ]
  },
  {
   "cell_type": "code",
   "execution_count": null,
   "id": "9e546b64-23de-45dd-bfcc-ecab084ec6e0",
   "metadata": {},
   "outputs": [],
   "source": [
    "# Check new class distribution\n",
    "sns.countplot(x='Disease', data=df_resampled)\n",
    "plt.show()"
   ]
  },
  {
   "cell_type": "code",
   "execution_count": null,
   "id": "71515f15-b070-4eb0-83c7-cc41dbcc6cda",
   "metadata": {},
   "outputs": [],
   "source": [
    "# Prepare the features (X) and the target variable (y)\n",
    "X = df_resampled.drop('Disease', axis=1)\n",
    "y = df_resampled['Disease']"
   ]
  },
  {
   "cell_type": "code",
   "execution_count": null,
   "id": "2eac62f3-d73c-4d5e-b38b-c3e551c450d6",
   "metadata": {},
   "outputs": [],
   "source": [
    "# Split the data into training and testing sets\n",
    "X_train, X_test, y_train, y_test = train_test_split(X, y, test_size=0.3, random_state=42, stratify=y)"
   ]
  },
  {
   "cell_type": "code",
   "execution_count": null,
   "id": "eb4aa35c-5b75-47b2-a9a3-417fca4f1529",
   "metadata": {},
   "outputs": [],
   "source": [
    "# Standardize the features (important for Logistic Regression)\n",
    "scaler = StandardScaler()\n",
    "X_train_scaled = scaler.fit_transform(X_train)\n",
    "X_test_scaled = scaler.transform(X_test)"
   ]
  },
  {
   "cell_type": "code",
   "execution_count": null,
   "id": "2c4018a1-61b0-4bea-a460-51e9f4a25eda",
   "metadata": {},
   "outputs": [],
   "source": [
    "# Initialize the models\n",
    "rf_model = RandomForestClassifier(random_state=42)\n",
    "lr_model = LogisticRegression(random_state=42, max_iter=1000)"
   ]
  },
  {
   "cell_type": "code",
   "execution_count": null,
   "id": "937d4996-e18e-4ba5-9c0e-4fb2e94253a8",
   "metadata": {},
   "outputs": [],
   "source": [
    "# Define the hyperparameters grid for GridSearchCV\n",
    "rf_param_grid = {\n",
    "    'n_estimators': [50, 100, 200],\n",
    "    'max_depth': [None, 10, 20, 30],\n",
    "    'min_samples_split': [2, 5, 10],\n",
    "    'min_samples_leaf': [1, 2, 4]\n",
    "}\n",
    "\n",
    "lr_param_grid = {\n",
    "    'C': [0.01, 0.1, 1, 10],\n",
    "    'penalty': ['l2'],\n",
    "    'solver': ['liblinear']\n",
    "}"
   ]
  },
  {
   "cell_type": "code",
   "execution_count": null,
   "id": "275b2822-1971-4a17-836f-1834a79dd35f",
   "metadata": {},
   "outputs": [],
   "source": [
    "# GridSearchCV for RandomForest\n",
    "rf_grid_search = GridSearchCV(estimator=rf_model, param_grid=rf_param_grid, cv=5, n_jobs=-1, verbose=2, scoring='accuracy')\n",
    "rf_grid_search.fit(X_train_scaled, y_train)"
   ]
  },
  {
   "cell_type": "code",
   "execution_count": null,
   "id": "0e3ac3d8-2598-420a-a9a0-ca9c28a4fe74",
   "metadata": {},
   "outputs": [],
   "source": [
    "# GridSearchCV for Logistic Regression\n",
    "lr_grid_search = GridSearchCV(estimator=lr_model, param_grid=lr_param_grid, cv=5, n_jobs=-1, verbose=2, scoring='accuracy')\n",
    "lr_grid_search.fit(X_train_scaled, y_train)"
   ]
  },
  {
   "cell_type": "code",
   "execution_count": null,
   "id": "fb67834b-8d1e-40a3-95b4-81829e13e9d2",
   "metadata": {},
   "outputs": [],
   "source": [
    "# Get the best models\n",
    "best_rf_model = rf_grid_search.best_estimator_\n",
    "best_lr_model = lr_grid_search.best_estimator_"
   ]
  },
  {
   "cell_type": "code",
   "execution_count": null,
   "id": "4bbbf64a-572b-489a-ad34-fd9eabc44bb5",
   "metadata": {},
   "outputs": [],
   "source": [
    "# Predict on test set using best models\n",
    "rf_pred = best_rf_model.predict(X_test_scaled)\n",
    "lr_pred = best_lr_model.predict(X_test_scaled)"
   ]
  },
  {
   "cell_type": "code",
   "execution_count": null,
   "id": "62660ab3-8d15-47be-997a-8ff2716c7b73",
   "metadata": {},
   "outputs": [],
   "source": [
    "# Accuracy Scores\n",
    "rf_accuracy = accuracy_score(y_test, rf_pred)\n",
    "lr_accuracy = accuracy_score(y_test, lr_pred)"
   ]
  },
  {
   "cell_type": "code",
   "execution_count": null,
   "id": "60138cf0-895e-414f-8175-357eec1ec96b",
   "metadata": {},
   "outputs": [],
   "source": [
    "# Classification Reports\n",
    "rf_class_report = classification_report(y_test, rf_pred)\n",
    "lr_class_report = classification_report(y_test, lr_pred)"
   ]
  },
  {
   "cell_type": "code",
   "execution_count": null,
   "id": "6e0282d4-07c6-445f-a0dc-44e06c15cb53",
   "metadata": {},
   "outputs": [],
   "source": [
    "# Confusion Matrices\n",
    "rf_conf_matrix = confusion_matrix(y_test, rf_pred)\n",
    "lr_conf_matrix = confusion_matrix(y_test, lr_pred)"
   ]
  },
  {
   "cell_type": "code",
   "execution_count": null,
   "id": "af34a92e-e8a0-4648-907a-a3da27c4eaf8",
   "metadata": {},
   "outputs": [],
   "source": [
    "# Plot Confusion Matrices\n",
    "fig, axes = plt.subplots(1, 2, figsize=(14, 6))\n",
    "\n",
    "sns.heatmap(rf_conf_matrix, annot=True, fmt='d', cmap='Blues', ax=axes[0], \n",
    "            xticklabels=['Healthy', 'Diseased'], yticklabels=['Healthy', 'Diseased'])\n",
    "axes[0].set_title('Random Forest Confusion Matrix')\n",
    "\n",
    "sns.heatmap(lr_conf_matrix, annot=True, fmt='d', cmap='Blues', ax=axes[1], \n",
    "            xticklabels=['Healthy', 'Diseased'], yticklabels=['Healthy', 'Diseased'])\n",
    "axes[1].set_title('Logistic Regression Confusion Matrix')\n",
    "\n",
    "plt.tight_layout()\n",
    "plt.show()"
   ]
  },
  {
   "cell_type": "code",
   "execution_count": null,
   "id": "43d53b37-a0a4-45cc-a528-7cd775a2ea46",
   "metadata": {},
   "outputs": [],
   "source": [
    "# Display Classification Reports\n",
    "print(\"Random Forest Classification Report:\\n\", rf_class_report)\n",
    "print(\"\\nLogistic Regression Classification Report:\\n\", lr_class_report)"
   ]
  },
  {
   "cell_type": "code",
   "execution_count": null,
   "id": "23828363-d2e0-4cd8-afb9-9d50fd8bd076",
   "metadata": {},
   "outputs": [],
   "source": [
    "# Model Comparison Plot\n",
    "model_accuracies = [rf_accuracy, lr_accuracy]\n",
    "model_names = ['Random Forest', 'Logistic Regression']"
   ]
  },
  {
   "cell_type": "code",
   "execution_count": null,
   "id": "2ead5581-a81f-441c-97a9-840f4593bd50",
   "metadata": {},
   "outputs": [],
   "source": [
    "plt.figure(figsize=(8, 6))\n",
    "sns.barplot(x=model_names, y=model_accuracies, palette='Blues')\n",
    "plt.title('Model Accuracy Comparison')\n",
    "plt.ylabel('Accuracy')\n",
    "plt.ylim(0, 1)\n",
    "plt.show()"
   ]
  },
  {
   "cell_type": "code",
   "execution_count": null,
   "id": "67746621-3892-4bab-966a-c367e6fae99f",
   "metadata": {},
   "outputs": [],
   "source": [
    "# Save both models\n",
    "joblib.dump(best_rf_model, 'random_forest_model.pkl')\n",
    "joblib.dump(best_lr_model, 'logistic_regression_model.pkl')\n",
    "joblib.dump(scaler, 'standard_scaler.pkl')\n",
    "\n",
    "print(f\"Both models and the scaler have been saved as 'random_forest_model.pkl', 'logistic_regression_model.pkl', and 'standard_scaler.pkl'\")"
   ]
  },
  {
   "cell_type": "code",
   "execution_count": null,
   "id": "73a0c316-4863-43ed-8451-272111ec9769",
   "metadata": {},
   "outputs": [],
   "source": [
    "df_minority"
   ]
  },
  {
   "cell_type": "code",
   "execution_count": null,
   "id": "20fd22b1-3e42-4aa3-bae9-46ec11483472",
   "metadata": {},
   "outputs": [],
   "source": [
    "df_majority"
   ]
  },
  {
   "cell_type": "code",
   "execution_count": null,
   "id": "85ac47af-1199-4ae1-8520-a08d54e04528",
   "metadata": {},
   "outputs": [],
   "source": []
  },
  {
   "cell_type": "markdown",
   "id": "90f1b4ed",
   "metadata": {},
   "source": []
  }
 ],
 "metadata": {
  "kernelspec": {
   "display_name": "Python 3",
   "language": "python",
   "name": "python3"
  },
  "language_info": {
   "codemirror_mode": {
    "name": "ipython",
    "version": 3
   },
   "file_extension": ".py",
   "mimetype": "text/x-python",
   "name": "python",
   "nbconvert_exporter": "python",
   "pygments_lexer": "ipython3",
   "version": "3.11.9"
  }
 },
 "nbformat": 4,
 "nbformat_minor": 5
}
